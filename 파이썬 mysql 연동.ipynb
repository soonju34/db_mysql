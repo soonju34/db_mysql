{
 "cells": [
  {
   "cell_type": "markdown",
   "id": "686b2521",
   "metadata": {},
   "source": [
    "# 데이터 베이스에 연결"
   ]
  },
  {
   "cell_type": "code",
   "execution_count": 5,
   "id": "62f54a2d",
   "metadata": {},
   "outputs": [],
   "source": [
    "import pymysql\n",
    "conn = pymysql.connect(host='127.0.0.1',user='root', password='1234',\n",
    "                      db = 'hanbitdb', charset='utf8')"
   ]
  },
  {
   "cell_type": "markdown",
   "id": "79e14302",
   "metadata": {},
   "source": [
    "# 커서 생성"
   ]
  },
  {
   "cell_type": "code",
   "execution_count": 6,
   "id": "ac3bd816",
   "metadata": {},
   "outputs": [],
   "source": [
    "cur = conn.cursor()"
   ]
  },
  {
   "cell_type": "markdown",
   "id": "3517d256",
   "metadata": {},
   "source": [
    "# 테이블생성"
   ]
  },
  {
   "cell_type": "code",
   "execution_count": 13,
   "id": "162761d7",
   "metadata": {},
   "outputs": [
    {
     "data": {
      "text/plain": [
       "0"
      ]
     },
     "execution_count": 13,
     "metadata": {},
     "output_type": "execute_result"
    }
   ],
   "source": [
    "cur.execute(\"CREATE TABLE userTable (id char(4), userName char(20), email char(20), birthYear int)\")"
   ]
  },
  {
   "cell_type": "markdown",
   "id": "67b1d2bb",
   "metadata": {},
   "source": [
    "# 데이터 입력"
   ]
  },
  {
   "cell_type": "code",
   "execution_count": 14,
   "id": "f9e6a4e2",
   "metadata": {},
   "outputs": [
    {
     "data": {
      "text/plain": [
       "1"
      ]
     },
     "execution_count": 14,
     "metadata": {},
     "output_type": "execute_result"
    }
   ],
   "source": [
    "cur.execute(\"INSERT INTO userTable VALUES('John', 'John ban', 'john@gmail.com', 1990)\")\n",
    "cur.execute(\"INSERT INTO userTable VALUES('Lee', 'Lee soon ju', 'Lee@naver.com', 1998)\")\n",
    "cur.execute(\"INSERT INTO userTable VALUES('Jang', 'Jang na seul', 'Jang@daum.com', 1997)\")\n",
    "cur.execute(\"INSERT INTO userTable VALUES('Yang', 'Yang in young', 'yang@naver.com', 1971)\")"
   ]
  },
  {
   "cell_type": "markdown",
   "id": "5245f0e7",
   "metadata": {},
   "source": [
    "# 저장"
   ]
  },
  {
   "cell_type": "code",
   "execution_count": 15,
   "id": "c3054e88",
   "metadata": {},
   "outputs": [],
   "source": [
    "conn.commit()"
   ]
  },
  {
   "cell_type": "code",
   "execution_count": 16,
   "id": "1cb15e17",
   "metadata": {},
   "outputs": [],
   "source": [
    "conn.close()"
   ]
  },
  {
   "cell_type": "code",
   "execution_count": null,
   "id": "c2b68f25",
   "metadata": {},
   "outputs": [],
   "source": []
  }
 ],
 "metadata": {
  "kernelspec": {
   "display_name": "Python 3 (ipykernel)",
   "language": "python",
   "name": "python3"
  },
  "language_info": {
   "codemirror_mode": {
    "name": "ipython",
    "version": 3
   },
   "file_extension": ".py",
   "mimetype": "text/x-python",
   "name": "python",
   "nbconvert_exporter": "python",
   "pygments_lexer": "ipython3",
   "version": "3.10.4"
  }
 },
 "nbformat": 4,
 "nbformat_minor": 5
}
