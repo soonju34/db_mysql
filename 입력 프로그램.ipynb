{
 "cells": [
  {
   "cell_type": "markdown",
   "id": "e22e9726",
   "metadata": {},
   "source": [
    "# 입력값 데이터베이스에 저장"
   ]
  },
  {
   "cell_type": "code",
   "execution_count": 1,
   "id": "e2c72910",
   "metadata": {},
   "outputs": [
    {
     "name": "stdout",
     "output_type": "stream",
     "text": [
      "사용자 ID ==> U\n",
      "사용자 이름 ==> U young u\n",
      "사용자 이메일 ==> U@ena.com\n",
      "사용자 출생년도 ==> 1989\n",
      "사용자 ID ==> Su\n",
      "사용자 이름 ==> Su ji\n",
      "사용자 이메일 ==> su@sm.com\n",
      "사용자 출생년도 ==> 1888\n",
      "사용자 ID ==> \n"
     ]
    }
   ],
   "source": [
    "import pymysql\n",
    "\n",
    "#전역변수 선언\n",
    "conn, cur = None, None\n",
    "data1, data2, data3, data4 = \"\", \"\", \"\", \"\"\n",
    "sql=\"\"\n",
    "\n",
    "#메인코드\n",
    "conn = pymysql.connect(host = '127.0.0.1', user= 'root', password='1234',\n",
    "                      db = 'hanbitdb', charset='utf8')\n",
    "cur=conn.cursor()\n",
    "while (True):\n",
    "    data1 = input(\"사용자 ID ==> \")\n",
    "    if data1== \"\":\n",
    "        break;\n",
    "    data2 = input(\"사용자 이름 ==> \")\n",
    "    data3 = input(\"사용자 이메일 ==> \")\n",
    "    data4 = input(\"사용자 출생년도 ==> \")\n",
    "    sql = \"INSERT INTO userTable VALUES('\"+ data1 +\"','\"+ data2 +\"', '\"+ data3 +\"', \"+ data4 +\")\"\n",
    "    cur.execute(sql)\n",
    "\n",
    "conn.commit()\n",
    "conn.close()\n",
    "    "
   ]
  },
  {
   "cell_type": "code",
   "execution_count": null,
   "id": "dcf29c9a",
   "metadata": {},
   "outputs": [],
   "source": []
  }
 ],
 "metadata": {
  "kernelspec": {
   "display_name": "Python 3 (ipykernel)",
   "language": "python",
   "name": "python3"
  },
  "language_info": {
   "codemirror_mode": {
    "name": "ipython",
    "version": 3
   },
   "file_extension": ".py",
   "mimetype": "text/x-python",
   "name": "python",
   "nbconvert_exporter": "python",
   "pygments_lexer": "ipython3",
   "version": "3.10.4"
  }
 },
 "nbformat": 4,
 "nbformat_minor": 5
}
